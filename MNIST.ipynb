{
  "nbformat": 4,
  "nbformat_minor": 0,
  "metadata": {
    "colab": {
      "name": "MNIST.ipynb",
      "provenance": [],
      "collapsed_sections": [],
      "include_colab_link": true
    },
    "kernelspec": {
      "name": "python3",
      "display_name": "Python 3"
    },
    "accelerator": "GPU"
  },
  "cells": [
    {
      "cell_type": "markdown",
      "metadata": {
        "id": "view-in-github",
        "colab_type": "text"
      },
      "source": [
        "<a href=\"https://colab.research.google.com/github/Galahad3x/noisedMNIST/blob/master/MNIST.ipynb\" target=\"_parent\"><img src=\"https://colab.research.google.com/assets/colab-badge.svg\" alt=\"Open In Colab\"/></a>"
      ]
    },
    {
      "cell_type": "code",
      "metadata": {
        "id": "rbchFpyd7m1V",
        "colab_type": "code",
        "outputId": "e1e7535f-f457-4503-dabd-c60591c600ea",
        "colab": {
          "base_uri": "https://localhost:8080/",
          "height": 592
        }
      },
      "source": [
        "import requests\n",
        "from pathlib import Path\n",
        "from typing import Union\n",
        "import matplotlib.pyplot as plt\n",
        "from sklearn.pipeline import Pipeline\n",
        "from sklearn.datasets import fetch_openml\n",
        "from sklearn.preprocessing import StandardScaler\n",
        "from sklearn.ensemble import RandomForestClassifier\n",
        "from sklearn.model_selection import train_test_split\n",
        "from sklearn.base import BaseEstimator, TransformerMixin\n",
        "from sklearn.metrics import confusion_matrix, classification_report\n",
        "\n",
        "import numpy as np\n",
        "\n",
        "from sklearn.linear_model import LogisticRegression\n",
        "\n",
        "DATASET_URL = ('https://firebasestorage.googleapis.com/v0/b/hackeps-2019.appspot.com/o/noised-MNIST.npz?alt=media&token=4cee641b-9e31-42c4-b9c8-e771d2eecbad')\n",
        "\n",
        "def download_file(url: str, \n",
        "                  file_path: Union[str, Path]):\n",
        "  r = requests.get(DATASET_URL, allow_redirects=True)\n",
        "  Path(file_path).open('wb').write(r.content)\n",
        "\n",
        "fname = 'noised-MNIST.npz'\n",
        "download_file(DATASET_URL, fname)\n",
        "\n",
        "data = np.load(fname)\n",
        "x, y, x_submission = data.values()\n",
        "\n",
        "model = LogisticRegression(multi_class='auto',solver='saga',max_iter=5000)\n",
        "\n",
        "model.fit(x,y)\n",
        "\n",
        "x_train, x_test, y_train, y_test = train_test_split(x, y, test_size=.33, random_state=42)\n",
        "\n",
        "test_pred = model.predict(x_test)\n",
        "\n",
        "y_pred = model.predict(x_submission)\n",
        "\n",
        "f = open(\"submission.txt\",\"w\")\n",
        "\n",
        "for y in y_pred:\n",
        "  f.write(str(y) + \"\\n\")\n",
        "\n",
        "def plot_confusion_matrix(y_true, y_pred,\n",
        "                          cmap=plt.cm.Blues):\n",
        "\n",
        "    title = 'Confusion matrix'\n",
        "    cm = confusion_matrix(y_true, y_pred)\n",
        "    cm = cm.astype('float') / cm.sum(axis=1)[:, np.newaxis]\n",
        "      \n",
        "    fig, ax = plt.subplots()\n",
        "    im = ax.imshow(cm, interpolation='nearest', cmap=cmap)\n",
        "    ax.figure.colorbar(im, ax=ax)\n",
        "    ax.set(xticks=np.arange(cm.shape[1]),\n",
        "           yticks=np.arange(cm.shape[0]),\n",
        "           title=title,\n",
        "           ylabel='True label',\n",
        "           xlabel='Predicted label')\n",
        "\n",
        "    fig.tight_layout()\n",
        "\n",
        "print(classification_report(test_pred, y_test))\n",
        "plot_confusion_matrix(test_pred, y_test)\n",
        "plt.show()"
      ],
      "execution_count": 1,
      "outputs": [
        {
          "output_type": "stream",
          "text": [
            "              precision    recall  f1-score   support\n",
            "\n",
            "           0       0.83      0.82      0.83      1555\n",
            "           1       0.87      0.82      0.84      1843\n",
            "           2       0.73      0.73      0.73      1536\n",
            "           3       0.71      0.74      0.73      1516\n",
            "           4       0.74      0.76      0.75      1529\n",
            "           5       0.60      0.65      0.62      1271\n",
            "           6       0.83      0.80      0.82      1597\n",
            "           7       0.73      0.76      0.75      1560\n",
            "           8       0.66      0.67      0.67      1481\n",
            "           9       0.72      0.69      0.71      1589\n",
            "\n",
            "    accuracy                           0.75     15477\n",
            "   macro avg       0.74      0.74      0.74     15477\n",
            "weighted avg       0.75      0.75      0.75     15477\n",
            "\n"
          ],
          "name": "stdout"
        },
        {
          "output_type": "display_data",
          "data": {
            "image/png": "[encoded data removed]",
            "text/plain": [
              "<Figure size 432x288 with 2 Axes>"
            ]
          },
          "metadata": {
            "tags": []
          }
        }
      ]
    }
  ]
}